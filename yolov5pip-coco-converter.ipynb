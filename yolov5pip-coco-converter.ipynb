{
 "cells": [
  {
   "cell_type": "code",
   "execution_count": 1,
   "metadata": {},
   "outputs": [],
   "source": [
    "from sahi.utils.coco import Coco, CocoCategory, CocoImage, CocoAnnotation\n",
    "from sahi.utils.file import save_json"
   ]
  },
  {
   "cell_type": "code",
   "execution_count": 2,
   "metadata": {},
   "outputs": [],
   "source": [
    "from glob import glob\n",
    "import shutil\n",
    "import ujson as json \n",
    "import os.path as osp \n",
    "import os\n",
    "import random\n",
    "from tqdm import tqdm\n",
    "from joblib import Parallel , delayed\n",
    "import multiprocessing as mp"
   ]
  },
  {
   "cell_type": "code",
   "execution_count": 3,
   "metadata": {},
   "outputs": [],
   "source": [
    "from tqdm.notebook import tqdm"
   ]
  },
  {
   "cell_type": "code",
   "execution_count": 4,
   "metadata": {},
   "outputs": [],
   "source": [
    "ts_dir = '/mnt/d/ts'\n",
    "tl_dir = '/mnt/d/tl'\n",
    "vs_dir = '/mnt/d/vs'\n",
    "vl_dir = '/mnt/d/vl'\n",
    "carmera_type_prefix = \"IR\"\n",
    "# carmera_type_prefix = \"THERM\""
   ]
  },
  {
   "cell_type": "code",
   "execution_count": 5,
   "metadata": {},
   "outputs": [],
   "source": [
    "train_jsons = sorted(glob(tl_dir + f\"/*_{carmera_type_prefix}_*/*/*\")) \n",
    "valid_jsons = sorted(glob(vl_dir + f\"/*_{carmera_type_prefix}_*/*/*\")) \n",
    "train_imgs = sorted(glob(ts_dir + f\"/*_{carmera_type_prefix}_*/*/*\")) \n",
    "valid_imgs = sorted(glob(vs_dir + f\"/*_{carmera_type_prefix}_*/*/*\")) "
   ]
  },
  {
   "cell_type": "code",
   "execution_count": 6,
   "metadata": {},
   "outputs": [],
   "source": [
    "save_dir = f'/mnt/e/yolov5pip_{carmera_type_prefix.lower()}'\n",
    "train_save_dir = osp.join(save_dir, 'train')\n",
    "valid_save_dir = osp.join(save_dir, 'valid')\n",
    "train_ann_path = osp.join(train_save_dir, 'train.json')\n",
    "valid_ann_path = osp.join(valid_save_dir, 'valid.json')\n",
    "os.makedirs(train_save_dir, exist_ok=True)\n",
    "os.makedirs(valid_save_dir, exist_ok=True)"
   ]
  },
  {
   "cell_type": "code",
   "execution_count": 7,
   "metadata": {},
   "outputs": [],
   "source": [
    "def preprocess_filename(filename: str):\n",
    "    return filename.replace('사건사고데이터이미지_', \"\")"
   ]
  },
  {
   "cell_type": "code",
   "execution_count": 8,
   "metadata": {},
   "outputs": [],
   "source": [
    "category_map = {2: '자전거탄사람', 3: '킥보드탄사람', 0: '사람', 6: '킥보드', 5: '자전거', 4:'오토바이', 1:'오토바이탄사람'}\n",
    "category_converter = {\n",
    "    '자전거탄사람': 'bicycleman',\n",
    "    '킥보드탄사람': 'kickboardman',\n",
    "    '사람': 'man',\n",
    "    '킥보드': 'kickboard',\n",
    "    '자전거': 'bicycle',\n",
    "    '오토바이': 'motorcycle',\n",
    "    '오토바이탄사람': 'motorcycleman'\n",
    " }\n",
    "\n",
    "def convert_coco(img_path, save_dir, coco, is_train=True):\n",
    "    img_save_path = osp.join(save_dir, preprocess_filename(osp.basename(img_path)))\n",
    "    if is_train:\n",
    "        label_path = img_path.replace('/ts/', '/tl/').replace('.jpg', '.json')\n",
    "    else:\n",
    "        label_path = img_path.replace('/vs/', '/vl/').replace('.jpg', '.json')\n",
    "    try:\n",
    "        info = json.load(open(label_path, 'r'))\n",
    "    except Exception as e:\n",
    "        print(e)\n",
    "    else:\n",
    "        shutil.copy(img_path, img_save_path)\n",
    "    img_base_filename = osp.basename(img_save_path) \n",
    "    image_id=info['image']['date_captured']\n",
    "    img = CocoImage(\n",
    "        id=image_id,\n",
    "        file_name=img_base_filename,\n",
    "        height=info['image']['size']['height'],\n",
    "        width=info['image']['size']['width'],\n",
    "    )\n",
    "    for ann in info['annotation']:\n",
    "        xmin = ann['bndbox']['xmin'] \n",
    "        xmax = ann['bndbox']['xmax'] \n",
    "        ymin = ann['bndbox']['ymin'] \n",
    "        ymax = ann['bndbox']['ymax'] \n",
    "        category_id = ann['property']['category_id']\n",
    "        category_name = ann['property']['name']\n",
    "        category_map[category_id] = category_name\n",
    "        coco_ann = CocoAnnotation(\n",
    "            bbox=[xmin, ymin, xmax-xmin, ymax-ymin],\n",
    "            category_id=category_id,\n",
    "            category_name=category_converter[category_name],\n",
    "            image_id=image_id\n",
    "        )\n",
    "        img.add_annotation(coco_ann)\n",
    "    coco.add_image(img)"
   ]
  },
  {
   "cell_type": "code",
   "execution_count": null,
   "metadata": {},
   "outputs": [],
   "source": [
    "train_coco = Coco()\n",
    "train_num =  100_000\n",
    "train_ds = random.sample(train_imgs, train_num)\n",
    "train_job = Parallel(n_jobs=mp.cpu_count(),prefer=\"threads\") \\\n",
    "    (delayed(convert_coco)(img_path, train_save_dir, train_coco) for img_path in tqdm(train_ds))"
   ]
  },
  {
   "cell_type": "code",
   "execution_count": 9,
   "metadata": {},
   "outputs": [
    {
     "data": {
      "application/vnd.jupyter.widget-view+json": {
       "model_id": "0134cab3a58044f7844ad0677dedbd42",
       "version_major": 2,
       "version_minor": 0
      },
      "text/plain": [
       "  0%|          | 0/20792 [00:00<?, ?it/s]"
      ]
     },
     "metadata": {},
     "output_type": "display_data"
    }
   ],
   "source": [
    "valid_coco = Coco()\n",
    "valid_num = int(len(valid_jsons) * 0.4)\n",
    "valid_ds = valid_imgs[:valid_num]\n",
    "valid_job = Parallel(n_jobs=mp.cpu_count(),prefer=\"threads\") \\\n",
    "    (delayed(convert_coco)(img_path, valid_save_dir, valid_coco, False) for img_path in tqdm(valid_ds))"
   ]
  },
  {
   "cell_type": "code",
   "execution_count": null,
   "metadata": {},
   "outputs": [],
   "source": [
    "for id, name in category_map.items():\n",
    "    train_coco.add_category(\n",
    "        CocoCategory(\n",
    "            id=id,\n",
    "            name=category_converter[name]\n",
    "        )\n",
    "    )\n",
    "\n",
    "for id, name in category_map.items():\n",
    "    valid_coco.add_category(\n",
    "        CocoCategory(\n",
    "            id=id,\n",
    "            name=category_converter[name]\n",
    "        )\n",
    "    )\n",
    "\n",
    "save_json(train_coco.json, train_ann_path)\n",
    "save_json(valid_coco.json, valid_ann_path)"
   ]
  },
  {
   "cell_type": "code",
   "execution_count": 2,
   "metadata": {},
   "outputs": [
    {
     "ename": "NameError",
     "evalue": "name 'train_ann_path' is not defined",
     "output_type": "error",
     "traceback": [
      "\u001b[0;31m---------------------------------------------------------------------------\u001b[0m",
      "\u001b[0;31mNameError\u001b[0m                                 Traceback (most recent call last)",
      "Cell \u001b[0;32mIn [2], line 4\u001b[0m\n\u001b[1;32m      2\u001b[0m \u001b[39mimport\u001b[39;00m \u001b[39mos\u001b[39;00m\u001b[39m.\u001b[39;00m\u001b[39mpath\u001b[39;00m \u001b[39mas\u001b[39;00m \u001b[39mosp\u001b[39;00m\n\u001b[1;32m      3\u001b[0m yolo_yaml \u001b[39m=\u001b[39m {}\n\u001b[0;32m----> 4\u001b[0m yolo_yaml[\u001b[39m'\u001b[39m\u001b[39mtrain_json_path\u001b[39m\u001b[39m'\u001b[39m] \u001b[39m=\u001b[39m osp\u001b[39m.\u001b[39mabspath(train_ann_path)\n\u001b[1;32m      5\u001b[0m yolo_yaml[\u001b[39m'\u001b[39m\u001b[39mtrain_image_dir\u001b[39m\u001b[39m'\u001b[39m] \u001b[39m=\u001b[39m osp\u001b[39m.\u001b[39mabspath(train_save_dir)\n\u001b[1;32m      6\u001b[0m yolo_yaml[\u001b[39m'\u001b[39m\u001b[39mval_json_path\u001b[39m\u001b[39m'\u001b[39m] \u001b[39m=\u001b[39m osp\u001b[39m.\u001b[39mabspath(valid_ann_path) \n",
      "\u001b[0;31mNameError\u001b[0m: name 'train_ann_path' is not defined"
     ]
    }
   ],
   "source": [
    "import yaml\n",
    "import os.path as osp\n",
    "yolo_yaml = {}\n",
    "yolo_yaml['train_json_path'] = osp.abspath(train_ann_path)\n",
    "yolo_yaml['train_image_dir'] = osp.abspath(train_save_dir)\n",
    "yolo_yaml['val_json_path'] = osp.abspath(valid_ann_path) \n",
    "yolo_yaml['val_image_dir'] = osp.abspath(valid_save_dir)\n",
    "with open(f'yolov5pip_{carmera_type_prefix.lower()}_yolo.yml', 'w') as f:\n",
    "    yaml.dump(yolo_yaml, f)"
   ]
  }
 ],
 "metadata": {
  "kernelspec": {
   "display_name": "Python 3.10.8 ('stack-overflow')",
   "language": "python",
   "name": "python3"
  },
  "language_info": {
   "codemirror_mode": {
    "name": "ipython",
    "version": 3
   },
   "file_extension": ".py",
   "mimetype": "text/x-python",
   "name": "python",
   "nbconvert_exporter": "python",
   "pygments_lexer": "ipython3",
   "version": "3.10.8"
  },
  "orig_nbformat": 4,
  "vscode": {
   "interpreter": {
    "hash": "b09a7615e5c73135b5b2b399ff42e448c74ee8badd4bd51bae032fe233fadb59"
   }
  }
 },
 "nbformat": 4,
 "nbformat_minor": 2
}
