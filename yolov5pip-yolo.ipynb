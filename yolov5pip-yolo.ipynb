{
 "cells": [
  {
   "cell_type": "code",
   "execution_count": 1,
   "metadata": {},
   "outputs": [],
   "source": [
    "import os.path as osp\n",
    "import os\n",
    "import shutil\n",
    "from glob import glob\n",
    "cache_dir_path = 'yolov5pip_ir_st'\n",
    "if cache_dir_path.find('ir') > 0:\n",
    "    img_type = 'ir'\n",
    "else:\n",
    "    img_type = 'thermal'\n",
    "train_path = osp.join(cache_dir_path, 'data', 'train') \n",
    "val_path = osp.join(cache_dir_path, 'data', 'val') \n",
    "\n",
    "yolo_dir_path = cache_dir_path.replace('_st', '_yolo')\n",
    "os.makedirs(yolo_dir_path, exist_ok=True)\n",
    "yolo_image_path = osp.join(yolo_dir_path, 'images')\n",
    "os.makedirs(yolo_image_path, exist_ok=True)\n",
    "yolo_label_path = osp.join(yolo_dir_path, 'labels')\n",
    "os.makedirs(yolo_label_path, exist_ok=True)\n",
    "\n",
    "train_txt_path = osp.join(yolo_dir_path, 'train.txt')\n",
    "val_txt_path = osp.join(yolo_dir_path, 'val.txt')\n",
    "test_txt_path = osp.join(yolo_dir_path, 'test.txt')"
   ]
  },
  {
   "cell_type": "code",
   "execution_count": 2,
   "metadata": {},
   "outputs": [],
   "source": [
    "import aiofiles.os as aos\n",
    "import asyncio\n",
    "import random"
   ]
  },
  {
   "cell_type": "code",
   "execution_count": 5,
   "metadata": {},
   "outputs": [
    {
     "name": "stderr",
     "output_type": "stream",
     "text": [
      "/tmp/ipykernel_1832/3101363410.py:1: RuntimeWarning: coroutine 'rename' was never awaited\n",
      "  tasks = []\n",
      "RuntimeWarning: Enable tracemalloc to get the object allocation traceback\n"
     ]
    }
   ],
   "source": [
    "tasks = []\n",
    "for path in glob(osp.join(train_path, '*.jpg')):\n",
    "    fn = os.path.basename(path)\n",
    "    tasks.append(aos.rename(path, osp.join(yolo_image_path, fn)))\n",
    "for path in glob(osp.join(val_path, '*.jpg')):\n",
    "    fn = os.path.basename(path)\n",
    "    tasks.append(aos.rename(path, osp.join(yolo_image_path, fn)))\n",
    "for path in glob(osp.join(train_path, '*.txt')):\n",
    "    fn = os.path.basename(path)\n",
    "    tasks.append(aos.rename(path, osp.join(yolo_label_path, fn)))\n",
    "for path in glob(osp.join(val_path, '*.txt')):\n",
    "    fn = os.path.basename(path)\n",
    "    tasks.append(aos.rename(path, osp.join(yolo_label_path, fn)))\n",
    "assert len(tasks) > 0"
   ]
  },
  {
   "cell_type": "code",
   "execution_count": 7,
   "metadata": {},
   "outputs": [
    {
     "data": {
      "text/plain": [
       "60396"
      ]
     },
     "execution_count": 7,
     "metadata": {},
     "output_type": "execute_result"
    }
   ],
   "source": [
    "len(tasks) // 2"
   ]
  },
  {
   "cell_type": "code",
   "execution_count": 8,
   "metadata": {},
   "outputs": [
    {
     "data": {
      "text/plain": [
       "<_GatheringFuture pending>"
      ]
     },
     "execution_count": 8,
     "metadata": {},
     "output_type": "execute_result"
    }
   ],
   "source": [
    "asyncio.run(*tasks)"
   ]
  },
  {
   "cell_type": "code",
   "execution_count": 9,
   "metadata": {},
   "outputs": [],
   "source": [
    "yo_img_paths = glob(osp.join(yolo_image_path, '*.jpg'))\n",
    "yo_label_paths = glob(osp.join(yolo_label_path, '*.txt'))\n",
    "yo_img_paths = [osp.abspath(path) for path in yo_img_paths]\n",
    "yo_label_paths = [osp.abspath(path) for path in yo_label_paths]"
   ]
  },
  {
   "cell_type": "code",
   "execution_count": 10,
   "metadata": {},
   "outputs": [],
   "source": [
    "assert len(yo_img_paths) == len(yo_label_paths)"
   ]
  },
  {
   "cell_type": "code",
   "execution_count": 12,
   "metadata": {},
   "outputs": [
    {
     "data": {
      "text/plain": [
       "60396"
      ]
     },
     "execution_count": 12,
     "metadata": {},
     "output_type": "execute_result"
    }
   ],
   "source": [
    "len(yo_img_paths)"
   ]
  },
  {
   "cell_type": "code",
   "execution_count": 13,
   "metadata": {},
   "outputs": [],
   "source": [
    "from sklearn.model_selection import train_test_split\n",
    "x_train, x_valid, y_train, y_valid = train_test_split(yo_img_paths, yo_label_paths, test_size=0.2, shuffle=True, stratify=None, random_state=34)"
   ]
  },
  {
   "cell_type": "code",
   "execution_count": 14,
   "metadata": {},
   "outputs": [],
   "source": [
    "assert len([os.path.basename(row).replace('.jpg', '.txt') for row in x_train]) == len([os.path.basename(row).replace('.txt', '.jpg') for row in y_train])"
   ]
  },
  {
   "cell_type": "code",
   "execution_count": 15,
   "metadata": {},
   "outputs": [],
   "source": [
    "with open(train_txt_path, 'w') as f:\n",
    "    for row in x_train:\n",
    "        f.write(row + '\\n')"
   ]
  },
  {
   "cell_type": "code",
   "execution_count": 16,
   "metadata": {},
   "outputs": [],
   "source": [
    "with open(val_txt_path, 'w') as f:\n",
    "    for row in x_valid:\n",
    "        f.write(row + '\\n')"
   ]
  },
  {
   "cell_type": "code",
   "execution_count": 17,
   "metadata": {},
   "outputs": [],
   "source": [
    "import yaml\n",
    "with open(osp.join(cache_dir_path, 'data', 'data.yml'), 'r', errors='ignore') as f:\n",
    "    cache_yaml = yaml.safe_load(f)\n",
    "yolo_yaml = {}\n",
    "yolo_yaml['train'] = osp.abspath(train_txt_path)\n",
    "yolo_yaml['val'] = osp.abspath(val_txt_path)\n",
    "yolo_yaml['names'] = cache_yaml['names'] \n",
    "yolo_yaml['nc'] =  cache_yaml['nc']  \n",
    "with open(f'yolov5pip_{img_type}_yolo.yml', 'w') as f:\n",
    "    yaml.dump(yolo_yaml, f)"
   ]
  },
  {
   "cell_type": "code",
   "execution_count": null,
   "metadata": {},
   "outputs": [],
   "source": []
  }
 ],
 "metadata": {
  "kernelspec": {
   "display_name": "Python 3.10.8 ('stack-overflow')",
   "language": "python",
   "name": "python3"
  },
  "language_info": {
   "codemirror_mode": {
    "name": "ipython",
    "version": 3
   },
   "file_extension": ".py",
   "mimetype": "text/x-python",
   "name": "python",
   "nbconvert_exporter": "python",
   "pygments_lexer": "ipython3",
   "version": "3.10.8"
  },
  "orig_nbformat": 4,
  "vscode": {
   "interpreter": {
    "hash": "b09a7615e5c73135b5b2b399ff42e448c74ee8badd4bd51bae032fe233fadb59"
   }
  }
 },
 "nbformat": 4,
 "nbformat_minor": 2
}
