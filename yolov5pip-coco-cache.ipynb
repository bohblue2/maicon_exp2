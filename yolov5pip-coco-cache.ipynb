{
 "cells": [
  {
   "cell_type": "code",
   "execution_count": 2,
   "metadata": {},
   "outputs": [
    {
     "name": "stdout",
     "output_type": "stream",
     "text": [
      "indexing coco dataset annotations...\n"
     ]
    },
    {
     "name": "stderr",
     "output_type": "stream",
     "text": [
      "Loading coco annotations: 100%|██████████| 50000/50000 [00:06<00:00, 8114.52it/s]\n"
     ]
    },
    {
     "name": "stdout",
     "output_type": "stream",
     "text": [
      "indexing coco dataset annotations...\n"
     ]
    },
    {
     "name": "stderr",
     "output_type": "stream",
     "text": [
      "Loading coco annotations: 100%|██████████| 10396/10396 [00:00<00:00, 11294.03it/s]\n"
     ]
    },
    {
     "name": "stdout",
     "output_type": "stream",
     "text": [
      "generating image symlinks and annotation files for yolov5...\n"
     ]
    },
    {
     "name": "stderr",
     "output_type": "stream",
     "text": [
      "100%|██████████| 50000/50000 [11:16<00:00, 73.94it/s]\n"
     ]
    },
    {
     "name": "stdout",
     "output_type": "stream",
     "text": [
      "generating image symlinks and annotation files for yolov5...\n"
     ]
    },
    {
     "name": "stderr",
     "output_type": "stream",
     "text": [
      "100%|██████████| 10396/10396 [02:21<00:00, 73.33it/s]\n"
     ]
    }
   ],
   "source": [
    "from sahi.utils.coco import export_coco_as_yolov5_via_yml\n",
    "yml_path = './yolov5pip_ir_so.yml' # data_coco_from yolov5-pip format\n",
    "save_dir = './yolov5pip_ir_st'\n",
    "data = export_coco_as_yolov5_via_yml(yml_path=yml_path, output_dir=save_dir + '/' + 'data')\n"
   ]
  },
  {
   "cell_type": "code",
   "execution_count": 4,
   "metadata": {},
   "outputs": [
    {
     "name": "stdout",
     "output_type": "stream",
     "text": [
      "Force Updating: ['man', 'motorcycleman', 'bicycleman', 'kickboardman', 'motorcycle', 'bicycle', 'kickboard']\n"
     ]
    }
   ],
   "source": [
    "import yaml\n",
    "from shutil import copyfile\n",
    "from pathlib import Path\n",
    "import os\n",
    "\n",
    "# add coco fields to data.yaml\n",
    "with open(yml_path, errors='ignore') as f:\n",
    "    data_info = yaml.safe_load(f)  # load data dict\n",
    "with open(data, errors='ignore') as f:\n",
    "    updated_data_info = yaml.safe_load(f)  # load data dict\n",
    "    updated_data_info[\"train_json_path\"] = data_info[\"train_json_path\"]\n",
    "    updated_data_info[\"val_json_path\"] = data_info[\"val_json_path\"]\n",
    "    updated_data_info[\"train_image_dir\"] = data_info[\"train_image_dir\"]\n",
    "    updated_data_info[\"val_image_dir\"] = data_info[\"val_image_dir\"]\n",
    "    if data_info.get(\"yolo_s3_data_dir\")is not None:\n",
    "        updated_data_info[\"yolo_s3_data_dir\"] = data_info[\"yolo_s3_data_dir\"]\n",
    "    if data_info.get(\"coco_s3_data_dir\")is not None:\n",
    "        updated_data_info[\"coco_s3_data_dir\"] = data_info[\"coco_s3_data_dir\"]\n",
    "    \n",
    "    updated_data_info['names'] = ['man', 'motorcycleman', 'bicycleman', 'kickboardman', 'motorcycle', 'bicycle', 'kickboard']\n",
    "    print(f\"Force Updating: {updated_data_info['names']}\")\n",
    "with open(data, 'w') as f:\n",
    "    yaml.dump(updated_data_info, f)\n",
    "\n",
    "w = save_dir + '/' + 'data' + '/' + 'coco'  # coco dir\n",
    "os.makedirs(w, exist_ok=True)  # make dir\n",
    "\n",
    "# copy train.json/val.json and coco_data.yml into data/coco/ folder\n",
    "if \"train_json_path\" in data_info and Path(data_info[\"train_json_path\"]).is_file():\n",
    "    copyfile(data_info[\"train_json_path\"], str(w + '/' + \"train.json\"))\n",
    "if \"val_json_path\" in data_info and Path(data_info[\"val_json_path\"]).is_file():\n",
    "    copyfile(data_info[\"val_json_path\"], str(w + '/' + \"val.json\"))"
   ]
  },
  {
   "cell_type": "code",
   "execution_count": null,
   "metadata": {},
   "outputs": [],
   "source": []
  }
 ],
 "metadata": {
  "kernelspec": {
   "display_name": "Python 3.10.8 ('stack-overflow')",
   "language": "python",
   "name": "python3"
  },
  "language_info": {
   "codemirror_mode": {
    "name": "ipython",
    "version": 3
   },
   "file_extension": ".py",
   "mimetype": "text/x-python",
   "name": "python",
   "nbconvert_exporter": "python",
   "pygments_lexer": "ipython3",
   "version": "3.10.8"
  },
  "orig_nbformat": 4,
  "vscode": {
   "interpreter": {
    "hash": "b09a7615e5c73135b5b2b399ff42e448c74ee8badd4bd51bae032fe233fadb59"
   }
  }
 },
 "nbformat": 4,
 "nbformat_minor": 2
}
